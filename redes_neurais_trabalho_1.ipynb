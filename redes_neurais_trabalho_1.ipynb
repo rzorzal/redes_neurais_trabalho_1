{
  "nbformat": 4,
  "nbformat_minor": 0,
  "metadata": {
    "colab": {
      "name": "redes_neurais_trabalho_1.ipynb",
      "provenance": [],
      "authorship_tag": "ABX9TyNkqEbQ9cp9sNsxjB+gN9Sj",
      "include_colab_link": true
    },
    "kernelspec": {
      "name": "python3",
      "display_name": "Python 3"
    },
    "language_info": {
      "name": "python"
    }
  },
  "cells": [
    {
      "cell_type": "markdown",
      "metadata": {
        "id": "view-in-github",
        "colab_type": "text"
      },
      "source": [
        "<a href=\"https://colab.research.google.com/github/rzorzal/redes_neurais_trabalho_1/blob/master/redes_neurais_trabalho_1.ipynb\" target=\"_parent\"><img src=\"https://colab.research.google.com/assets/colab-badge.svg\" alt=\"Open In Colab\"/></a>"
      ]
    },
    {
      "cell_type": "markdown",
      "metadata": {
        "id": "RG5cufiMHLu7"
      },
      "source": [
        "# Trabalho de Redes Neurais 1"
      ]
    },
    {
      "cell_type": "code",
      "metadata": {
        "id": "nS_iTNzJGuWw"
      },
      "source": [
        ""
      ],
      "execution_count": null,
      "outputs": []
    }
  ]
}